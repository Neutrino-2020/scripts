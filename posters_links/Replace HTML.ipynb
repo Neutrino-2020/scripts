{
 "cells": [
  {
   "cell_type": "markdown",
   "metadata": {},
   "source": [
    "# Generates all the HTML files for poster links\n",
    "\n",
    "At the end, rememeber to:\n",
    "- upload all the `html/*` files to AWS S3 `nu2020-data/poster_links`"
   ]
  },
  {
   "cell_type": "code",
   "execution_count": 5,
   "metadata": {},
   "outputs": [],
   "source": [
    "import json\n",
    "import os"
   ]
  },
  {
   "cell_type": "code",
   "execution_count": 15,
   "metadata": {},
   "outputs": [],
   "source": [
    "_base_url = \"https://nusoft.fnal.gov/nova/users/habig/webtemp/Nu2020PosterWeb/?posterID=\""
   ]
  },
  {
   "cell_type": "code",
   "execution_count": 16,
   "metadata": {},
   "outputs": [],
   "source": [
    "with open('posterid_to_room.json') as f:\n",
    "    data = json.load(f)\n",
    "\n",
    "# print(data)"
   ]
  },
  {
   "cell_type": "code",
   "execution_count": 17,
   "metadata": {},
   "outputs": [
    {
     "name": "stdout",
     "output_type": "stream",
     "text": [
      "Creating html/room_1_poster1.html\n",
      "Creating html/room_1_poster2.html\n",
      "Creating html/room_1_poster3.html\n",
      "Creating html/room_1_poster4.html\n",
      "Creating html/room_1_poster5.html\n",
      "Creating html/room_2_poster1.html\n",
      "Creating html/room_2_poster2.html\n",
      "Creating html/room_2_poster3.html\n",
      "Creating html/room_2_poster4.html\n",
      "Creating html/room_2_poster5.html\n",
      "Creating html/room_3_poster1.html\n",
      "Creating html/room_3_poster2.html\n",
      "Creating html/room_3_poster3.html\n",
      "Creating html/room_3_poster4.html\n",
      "Creating html/room_3_poster5.html\n",
      "Creating html/room_4_poster1.html\n",
      "Creating html/room_4_poster2.html\n",
      "Creating html/room_4_poster3.html\n",
      "Creating html/room_4_poster4.html\n",
      "Creating html/room_4_poster5.html\n"
     ]
    }
   ],
   "source": [
    "html_dir = 'html'\n",
    "for item in data:\n",
    "    original_name = f'base/to_room.html'\n",
    "    file = open(original_name, mode='r')\n",
    "    text = file.read()\n",
    "#     print(text)\n",
    "    \n",
    "    new_text = text.replace(\"REPLACE_THIS\", _base_url + str(item['poster_id']))\n",
    "    \n",
    "    room_number = item[\"room_number\"]\n",
    "    local_poster_number = item[\"local_poster_number\"]\n",
    "    \n",
    "    target_name = f'{html_dir}/room_{room_number}_poster{local_poster_number}.html'\n",
    "    print(f'Creating {target_name}')\n",
    "    \n",
    "    out_file = open(target_name, \"w\")\n",
    "    out_file.write(new_text)\n",
    "    \n",
    "    file.close()\n",
    "    out_file.close()"
   ]
  },
  {
   "cell_type": "code",
   "execution_count": null,
   "metadata": {},
   "outputs": [],
   "source": []
  }
 ],
 "metadata": {
  "kernelspec": {
   "display_name": "Python 3",
   "language": "python",
   "name": "python3"
  },
  "language_info": {
   "codemirror_mode": {
    "name": "ipython",
    "version": 3
   },
   "file_extension": ".py",
   "mimetype": "text/x-python",
   "name": "python",
   "nbconvert_exporter": "python",
   "pygments_lexer": "ipython3",
   "version": "3.7.4"
  }
 },
 "nbformat": 4,
 "nbformat_minor": 2
}
