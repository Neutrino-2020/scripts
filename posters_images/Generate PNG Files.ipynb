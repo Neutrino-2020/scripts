{
 "cells": [
  {
   "cell_type": "markdown",
   "metadata": {},
   "source": [
    "# Generates all the PNG files for poster images\n",
    "\n",
    "At the end, rememeber to:\n",
    "- upload all the `posters_png/*` files to AWS S3 `nu2020-data/poster`"
   ]
  },
  {
   "cell_type": "code",
   "execution_count": 9,
   "metadata": {},
   "outputs": [],
   "source": [
    "from os import listdir, system\n",
    "from os.path import isfile, join\n",
    "import json\n",
    "import os"
   ]
  },
  {
   "cell_type": "code",
   "execution_count": 22,
   "metadata": {},
   "outputs": [
    {
     "data": {
      "text/plain": [
       "0"
      ]
     },
     "execution_count": 22,
     "metadata": {},
     "output_type": "execute_result"
    }
   ],
   "source": [
    "_poster_out_dir = './posters_png/'\n",
    "system(f'mkdir -p {_poster_out_dir}')"
   ]
  },
  {
   "cell_type": "code",
   "execution_count": 23,
   "metadata": {},
   "outputs": [
    {
     "name": "stdout",
     "output_type": "stream",
     "text": [
      "['poster_id_614.pdf.png', 'poster_id_190.pdf.png', 'poster_id_24.pdf.png', 'poster_id_57.pdf.png', 'poster_id_143.pdf.png', 'poster_id_247.pdf.png', 'poster_id_597.pdf.png', 'poster_id_615.pdf.png', 'poster_id_285.pdf.png', 'poster_id_621.pdf.png', 'poster_id_37.pdf.png', 'poster_id_302.pdf.png', 'poster_id_45.pdf.png', 'poster_id_561.pdf.png', 'poster_id_324.pdf.png', 'poster_id_210.pdf.png', 'poster_id_546.pdf.png', 'poster_id_579.pdf.png', 'poster_id_132.pdf.png', 'poster_id_41.pdf.png', 'poster_id_197.pdf.png', 'poster_id_574.pdf.png', 'poster_id_59.pdf.png', 'poster_id_232.pdf.png', 'poster_id_22.pdf.png', 'poster_id_184.pdf.png', 'poster_id_600.pdf.png', 'poster_id_43.pdf.png', 'poster_id_577.pdf.png', 'poster_id_291.pdf.png', 'poster_id_265.pdf.png', 'poster_id_452.pdf.png']\n"
     ]
    }
   ],
   "source": [
    "pngs_folder = '../imagemod/posters_png/'\n",
    "png_files = [f for f in listdir(pngs_folder) if isfile(join(pngs_folder, f)) and '.pdf.png' in f]\n",
    "print(png_files)"
   ]
  },
  {
   "cell_type": "code",
   "execution_count": 24,
   "metadata": {},
   "outputs": [],
   "source": [
    "with open('../posterid_to_room.json') as f:\n",
    "    data = json.load(f)\n",
    "\n",
    "# print(data)"
   ]
  },
  {
   "cell_type": "code",
   "execution_count": 26,
   "metadata": {},
   "outputs": [
    {
     "name": "stdout",
     "output_type": "stream",
     "text": [
      "Creating room_1_poster1.png for poster ID 452\n",
      "Creating room_1_poster2.png for poster ID 247\n",
      "Creating room_1_poster3.png for poster ID 285\n",
      "Creating room_1_poster4.png for poster ID 132\n",
      "Creating room_1_poster5.png for poster ID 324\n",
      "Creating room_2_poster1.png for poster ID 197\n",
      "Creating room_2_poster2.png for poster ID 579\n",
      "Creating room_2_poster3.png for poster ID 143\n",
      "Creating room_2_poster4.png for poster ID 546\n",
      "Creating room_2_poster5.png for poster ID 184\n",
      "Creating room_3_poster1.png for poster ID 190\n",
      "Creating room_3_poster2.png for poster ID 597\n",
      "Creating room_3_poster3.png for poster ID 232\n",
      "Creating room_3_poster4.png for poster ID 41\n",
      "Creating room_3_poster5.png for poster ID 43\n",
      "Creating room_4_poster1.png for poster ID 57\n",
      "Creating room_4_poster2.png for poster ID 577\n",
      "Creating room_4_poster3.png for poster ID 615\n",
      "Creating room_4_poster4.png for poster ID 600\n",
      "Creating room_4_poster5.png for poster ID 614\n"
     ]
    }
   ],
   "source": [
    "for item in data:\n",
    "\n",
    "    poster_id = item['poster_id']\n",
    "    room_number = item[\"room_number\"]\n",
    "    local_poster_number = item[\"local_poster_number\"]\n",
    "\n",
    "    file_name = f'poster_id_{poster_id}.pdf.png'\n",
    "    \n",
    "    if file_name not in png_files:\n",
    "        print('File for poster ID', poster_id, 'is not available.')\n",
    "        continue\n",
    "            \n",
    "    target_name = f'room_{room_number}_poster{local_poster_number}.png'\n",
    "    print(f'Creating {target_name} for poster ID {poster_id}')\n",
    "    \n",
    "#     print(f'cp pngs_folder/{file_name} {_poster_out_dir}/{target_name}')\n",
    "    system(f'cp {pngs_folder}/{file_name} {_poster_out_dir}/{target_name}')"
   ]
  },
  {
   "cell_type": "code",
   "execution_count": null,
   "metadata": {},
   "outputs": [],
   "source": []
  }
 ],
 "metadata": {
  "kernelspec": {
   "display_name": "Python 3",
   "language": "python",
   "name": "python3"
  },
  "language_info": {
   "codemirror_mode": {
    "name": "ipython",
    "version": 3
   },
   "file_extension": ".py",
   "mimetype": "text/x-python",
   "name": "python",
   "nbconvert_exporter": "python",
   "pygments_lexer": "ipython3",
   "version": "3.7.4"
  }
 },
 "nbformat": 4,
 "nbformat_minor": 2
}
