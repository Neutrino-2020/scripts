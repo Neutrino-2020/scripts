{
 "cells": [
  {
   "cell_type": "code",
   "execution_count": 1,
   "metadata": {},
   "outputs": [],
   "source": [
    "import csv"
   ]
  },
  {
   "cell_type": "code",
   "execution_count": 2,
   "metadata": {},
   "outputs": [
    {
     "name": "stdout",
     "output_type": "stream",
     "text": [
      "Processed 31 lines.\n"
     ]
    }
   ],
   "source": [
    "names = []\n",
    "last_names = []\n",
    "emails = []\n",
    "with open('from_sam/for-marco-4261-4316.csv', encoding = \"ISO-8859-1\") as csv_file:\n",
    "    csv_reader = csv.reader(csv_file, delimiter=',')\n",
    "    line_count = 0\n",
    "    for row in csv_reader:\n",
    "        names.append(row[0])\n",
    "        last_names.append(row[1])\n",
    "        emails.append(row[2])\n",
    "        line_count += 1\n",
    "    print(f'Processed {line_count} lines.')"
   ]
  },
  {
   "cell_type": "code",
   "execution_count": 3,
   "metadata": {},
   "outputs": [],
   "source": [
    "if 'mdsheppeard@icloud.com' in emails or 'marnisheppeard@gmail.com' in emails:\n",
    "    print('ALERT !!!!!!!!!!!!!!!!!!!!!!!!!!!!!!!!!!!!!!!!!!!!!!!!!')\n",
    "if 'xtysirn_@gmail.com' in emails:\n",
    "    print('ALERT    !!!!!!!!!!!!!!!!!!!!!!!!!!!!!!!!!!!!!!!!!!!!!!!!!')"
   ]
  },
  {
   "cell_type": "code",
   "execution_count": 4,
   "metadata": {},
   "outputs": [
    {
     "name": "stdout",
     "output_type": "stream",
     "text": [
      "Peter Filip\n",
      "Yasser Abdou\n",
      "Beatriz Romeo\n",
      "Nikita Zaretskii\n",
      "Gogita Papalashvili\n",
      "Ehab Fouad\n",
      "Tommaso Chiarusi\n",
      "Mario Schuett\n",
      "William Quinn\n",
      "Bianca De Caro\n",
      "Jackson Walters\n",
      "Mehmet Gumus\n",
      "francesco ferella\n",
      "Jorge Garca\n",
      "Yang Tian\n",
      "Pau Novella\n",
      "Carol Johnstone\n",
      "Ayaz Ahmed\n",
      "Francesco Falconi\n",
      "Isabella Ginnett\n",
      "Andrew Collins\n",
      "Kasturi Saha\n",
      "Michinari Sakai\n",
      "Vasily Bokov\n",
      "Ayaz Ahmed\n",
      "Dae heun Koh\n",
      "Sebastian Sanchez Herrera\n",
      "Vasily Bokov\n",
      "Ian Bailey\n",
      "Nathaniel Kaneshige\n",
      "Harrison Siegel\n"
     ]
    }
   ],
   "source": [
    "# names\n",
    "# last_names\n",
    "# emails\n",
    "\n",
    "for n, l in zip(names, last_names):\n",
    "    print(n, l)"
   ]
  },
  {
   "cell_type": "code",
   "execution_count": 5,
   "metadata": {},
   "outputs": [
    {
     "name": "stdout",
     "output_type": "stream",
     "text": [
      "Number of entries: 31\n"
     ]
    }
   ],
   "source": [
    "print('Number of entries:', len(names))\n",
    "entries = len(names)"
   ]
  },
  {
   "cell_type": "code",
   "execution_count": 6,
   "metadata": {},
   "outputs": [
    {
     "name": "stdout",
     "output_type": "stream",
     "text": [
      "filip@fzu.cz,Peter Filip;yasser.abdou@science.tanta.edu.eg,Yasser Abdou;beatrix.87@hotmail.es,Beatriz Romeo;zaretskinikita@gmail.com,Nikita Zaretskii;gogita.papalashvili@tsu.ge,Gogita Papalashvili;dr_ehab_fouad@outlook.com.au,Ehab Fouad;tommaso.chiarusi@bo.infn.it,Tommaso Chiarusi;schuett@mpi-hd.mpg.de,Mario Schuett;william.quinn.14@ucl.ac.uk,William Quinn;bianca.decaro@student.unife.it,Bianca De Caro;jackwalt@bu.edu,Jackson Walters;mgumus@sissa.it,Mehmet Gumus;francesco.ferella@lngs.infn.it,francesco ferella;joegarciafa@unal.edu.co,Jorge Garca;yangt@mail.tsinghua.edu.cn,Yang Tian;pau.novella@ific.uv.es,Pau Novella;cjj@fnal.gov,Carol Johnstone;184120015@iitb.ac.in,Ayaz Ahmed;franfalc@hotmail.it,Francesco Falconi;ginnetti@msu.edu,Isabella Ginnett;andrew.collins@stfc.ac.uk,Andrew Collins;kasturisaha@iisc.ac.in,Kasturi Saha;michsakai@berkeley.edu,Michinari Sakai;vasek98@gmail.com,Vasily Bokov;hyppogryffindor@gmail.com,Ayaz Ahmed;koh0207@stanford.edu,Dae heun Koh;sanch373@msu.edu,Sebastian Sanchez Herrera;vasilybokov98@gmail.com,Vasily Bokov;i.bailey@lancaster.ac.uk,Ian Bailey;nkaneshige@ucsb.edu,Nathaniel Kaneshige;hs3152@columbia.edu,Harrison Siegel;\n"
     ]
    }
   ],
   "source": [
    "final_string = ''\n",
    "for i in range(0, entries):\n",
    "    n = names[i]\n",
    "    l = last_names[i]\n",
    "    e = emails[i]\n",
    "    final_string += e\n",
    "    final_string += ','\n",
    "    final_string += n\n",
    "    final_string += ' '\n",
    "    final_string += l\n",
    "    final_string += ';'\n",
    "\n",
    "print(final_string)"
   ]
  },
  {
   "cell_type": "code",
   "execution_count": null,
   "metadata": {},
   "outputs": [],
   "source": []
  },
  {
   "cell_type": "markdown",
   "metadata": {},
   "source": [
    "## Alec special"
   ]
  },
  {
   "cell_type": "code",
   "execution_count": 4,
   "metadata": {},
   "outputs": [
    {
     "name": "stdout",
     "output_type": "stream",
     "text": [
      "Column names are Name, Email Address\n",
      "Processed 76 lines.\n"
     ]
    }
   ],
   "source": [
    "names = []\n",
    "emails = []\n",
    "with open('/Users/mdeltutt/Downloads/snews-reg.csv') as csv_file:\n",
    "    csv_reader = csv.reader(csv_file, delimiter=',')\n",
    "    line_count = 0\n",
    "    for row in csv_reader:\n",
    "        if line_count == 0:\n",
    "            print(f'Column names are {\", \".join(row)}')\n",
    "            line_count += 1\n",
    "        else:\n",
    "            names.append(row[0])\n",
    "            emails.append(row[1])\n",
    "            line_count += 1\n",
    "    print(f'Processed {line_count} lines.')"
   ]
  },
  {
   "cell_type": "code",
   "execution_count": 9,
   "metadata": {},
   "outputs": [
    {
     "name": "stdout",
     "output_type": "stream",
     "text": [
      "sofia@lip.pt,Sofia Andringa;jbanovet@purdue.edu,John Banovetz;sbenzvi@ur.rochester.edu,Segev BenZvi;cb401@duke.edu,Crystal Burgos;alexis.coleiro@u-paris.fr,Alexis Coleiro;mcolomermolla@km3net.de,Marta Colomer Molla;vivek.datar@gmail.com,Vivek Datar;aydelgado@uc.cl,Aliwen Delgado;peterbd1@gmail.com,Peter Denton;adepoian@purdue.edu,Amanda Depoian;ddickinson@email.arizona.edu,Danielle Dickinson;dornic@cppm.in2p3.fr,Damien Dornic;duan@unm.edu,Huaiyu Duan;ferreiro@mpp.mpg.de,Nahuel Ferreiro Iachellini;agallorosso@laurentian.ca,Andrea Gallo Rosso;sgriswold@icecube.wisc.edu,Spencer Griswold;gromov@physics.msu.ru,Maxim Gromov;ahabig@umn.edu,Alec Habig;rhill2@laurentian.ca,Remington Hill;horiuchi@vt.edu,Shunsaku Horiuchi;koji@awa.tohoku.ac.jp,Koji Ishidoshrio;chinami.kato.e8@tohoku.ac.jp,Chinami Kato;dkhaitan@u.rochester.edu,Dev Ashish Khaitan;jpknelle@ncsu.edu,Jim Kneller;ckraus@laurentian.ca,Christine Kraus;vladimir.kulikovskiy@ge.infn.it,Vladimir Kulikovskiy;ranjan.laha@cern.ch,Ranjan Laha;tommylam@vt.edu,Tommy Lam;mathieu.lamoureux@cern.ch,Mathieu Lamoureux;rafael@purdue.edu,Rafael Lang;lee2676@purdue.edu,Rachel Lee;liyufeng@ihep.ac.cn,Yufeng Li;lincetto@cppm.in2p3.fr,Massimiliano Lincetto;mlinvill@purdue.edu,Mark Linvill;cecilia.lunardini@asu.edu,Cecilia Lunardini;mmccar21@ur.rochester.edu,M. Elise McCarthy;jost.migenda@kcl.ac.uk,Jost Migenda;dmilisav@purdue.edu,Dan Milisavljevic;evan.oconnor@astro.su.se,Evan O'Connor;eosullivan.queens@gmail.com,Erin O'Sullivan;giulia.pagliaroli@lngs.infn.it,Giulia Pagliaroli;luca.pattavina@tum.de,Luca Pattavina;s.j.m.peeters@sussex.ac.uk,Simon Peeters;rperes@physik.uzh.ch,Ricardo Peres;barry_pointon@bcit.ca,Barry Pointon;nraj@triumf.ca,Nirmal Raj;shayne@physik.uzh.ch,Shayne E Reichard;m.rigan@sussex.ac.uk,Michal Rigan;jrrumles@snolab.ca,Janet Rumleskie;hiro.sasaki@nao.ac.jp,Hirokazu Sasaki;schol@phy.duke.edu,Kate Scholberg;manibrata.sen@gmail.com,Manibrata Sen;ash@jinr.ru,Andrey Sheshukov;tjsonley@snolab.ca,Tom Sonley;niharika.sravan@gmail.com,Niharika Sravan;straitm@umn.edu,Matthew Strait;bsubraya@purdue.edu,Bhagya Subrayan;anna.suliga@nbi.ku.dk,Anna M. Suliga;yoxarasv@gmail.com,Yoxara S. Villamizar;takiwaki.tomoya.astro@gmail.com,Tomoya Takiwaki;tamborra@nbi.ku.dk,Irene Tamborra;sptorres@cougarnet.uh.edu,Sebastian Torres-Lara;jeff.tseng@physics.ox.ac.uk,Jeff Tseng;tunnell@rice.edu,Christopher Tunnell;nuberoi@u.rochester.edu,Navya Uberoi;justin.vasel@gmail.com,Justin Vasel;cjv@snolab.ca,Clarence Virtue;laurie.walk@nbi.ku.dk,Laurie Walk;jia-shian.wang@physics.ox.ac.uk,Josh Wang;mlwarre4@ncsu.edu,MacKenzie Warren;wenlj@ihep.ac.cn,Liangjian Wen;lwinslow@mit.edu,Lindley Winslow;yx48@rice.edu,Skylar Xu;xunjie.xu@gmail.com,Xun-Jie XU;shuai.zha@astro.su.se,Shuai Zha;\n"
     ]
    }
   ],
   "source": [
    "final_string = ''\n",
    "for i in range(0, 75):\n",
    "    n = names[i]\n",
    "    e = emails[i]\n",
    "    final_string += e\n",
    "    final_string += ','\n",
    "    final_string += n\n",
    "    final_string += ';'\n",
    "\n",
    "print(final_string)"
   ]
  },
  {
   "cell_type": "code",
   "execution_count": null,
   "metadata": {},
   "outputs": [],
   "source": []
  }
 ],
 "metadata": {
  "kernelspec": {
   "display_name": "Python 3",
   "language": "python",
   "name": "python3"
  },
  "language_info": {
   "codemirror_mode": {
    "name": "ipython",
    "version": 3
   },
   "file_extension": ".py",
   "mimetype": "text/x-python",
   "name": "python",
   "nbconvert_exporter": "python",
   "pygments_lexer": "ipython3",
   "version": "3.7.4"
  }
 },
 "nbformat": 4,
 "nbformat_minor": 2
}
