{
 "cells": [
  {
   "cell_type": "code",
   "execution_count": 1,
   "metadata": {},
   "outputs": [],
   "source": [
    "import csv"
   ]
  },
  {
   "cell_type": "code",
   "execution_count": 2,
   "metadata": {},
   "outputs": [
    {
     "name": "stdout",
     "output_type": "stream",
     "text": [
      "Processed 25 lines.\n"
     ]
    }
   ],
   "source": [
    "names = []\n",
    "last_names = []\n",
    "emails = []\n",
    "with open('from_sam/for-marco-4261-4285.csv', encoding = \"ISO-8859-1\") as csv_file:\n",
    "    csv_reader = csv.reader(csv_file, delimiter=',')\n",
    "    line_count = 0\n",
    "    for row in csv_reader:\n",
    "        names.append(row[0])\n",
    "        last_names.append(row[1])\n",
    "        emails.append(row[2])\n",
    "        line_count += 1\n",
    "    print(f'Processed {line_count} lines.')"
   ]
  },
  {
   "cell_type": "code",
   "execution_count": 3,
   "metadata": {},
   "outputs": [],
   "source": [
    "if 'mdsheppeard@icloud.com' in emails or 'marnisheppeard@gmail.com' in emails:\n",
    "    print('ALERT !!!!!!!!!!!!!!!!!!!!!!!!!!!!!!!!!!!!!!!!!!!!!!!!!')\n",
    "if 'xtysirn_@gmail.com' in emails:\n",
    "    print('ALERT    !!!!!!!!!!!!!!!!!!!!!!!!!!!!!!!!!!!!!!!!!!!!!!!!!')"
   ]
  },
  {
   "cell_type": "code",
   "execution_count": 4,
   "metadata": {},
   "outputs": [
    {
     "name": "stdout",
     "output_type": "stream",
     "text": [
      "Antonia Hubbard\n",
      "Luen Malshi\n",
      "Takeo Kawasaki\n",
      "Jason Forson\n",
      "Joe Crowley\n",
      "Guofu Cao\n",
      "Anatoli Fedynitch\n",
      "Mercedes Vasquez\n",
      "Antonio Marinelli\n",
      "Hari Prasad\n",
      "Junghwan Goh\n",
      "Inkyu Park\n",
      "Sin Kyu Kang\n",
      "Lena Meyer\n",
      "Ni Kaixiang\n",
      "Hans Niederhausen\n",
      "Amy Connolly\n",
      "Cao Chuanya\n",
      "Zack Savitsky\n",
      "Donald Hornback\n",
      "Victor Robles\n",
      "Rafael Sanchez\n",
      "Jaime Alvarez-Muniz\n",
      "Abhinav Choudhury\n",
      "Vandana Vandana\n"
     ]
    }
   ],
   "source": [
    "# names\n",
    "# last_names\n",
    "# emails\n",
    "\n",
    "for n, l in zip(names, last_names):\n",
    "    print(n, l)"
   ]
  },
  {
   "cell_type": "code",
   "execution_count": 5,
   "metadata": {},
   "outputs": [
    {
     "name": "stdout",
     "output_type": "stream",
     "text": [
      "Number of entries: 25\n"
     ]
    }
   ],
   "source": [
    "print('Number of entries:', len(names))\n",
    "entries = len(names)"
   ]
  },
  {
   "cell_type": "code",
   "execution_count": 6,
   "metadata": {},
   "outputs": [
    {
     "name": "stdout",
     "output_type": "stream",
     "text": [
      "hubbard8@llnl.gov,Antonia Hubbard;luen@mit.edu,Luen Malshi;kawasaki@kitasato-u.ac.jp,Takeo Kawasaki;jasonforson@gmail.com,Jason Forson;crowley@ucsb.edu,Joe Crowley;caogf@ihep.ac.cn,Guofu Cao;afedynitch@gmail.com,Anatoli Fedynitch;mmvasquez@berkeley.edu,Mercedes Vasquez;nuastromarino@gmail.com,Antonio Marinelli;haripkolla@gmail.com,Hari Prasad;jhgoh@cern.ch,Junghwan Goh;icpark@uos.ac.kr,Inkyu Park;skkang@snut.ac.kr,Sin Kyu Kang;lena.meyer@student.uni-tuebingen.de,Lena Meyer;1160274182@qq.com,Ni Kaixiang;hans.niederhausen@tum.de,Hans Niederhausen;connolly@physics.osu.edu,Amy Connolly;caocy@ihep.ac.cn,Cao Chuanya;zacks@fnal.gov,Zack Savitsky;donald.hornback@nnsa.doe.gov,Donald Hornback;victor.roblessanchez@yale.edu,Victor Robles;rasanle@gmail.com,Rafael Sanchez;jaime.alvarezmuniz@gmail.com,Jaime Alvarez-Muniz;abhinavchoudhury@protonmail.com,Abhinav Choudhury;v9993phy@gmail.com,Vandana Vandana;\n"
     ]
    }
   ],
   "source": [
    "final_string = ''\n",
    "for i in range(0, entries):\n",
    "    n = names[i]\n",
    "    l = last_names[i]\n",
    "    e = emails[i]\n",
    "    final_string += e\n",
    "    final_string += ','\n",
    "    final_string += n\n",
    "    final_string += ' '\n",
    "    final_string += l\n",
    "    final_string += ';'\n",
    "\n",
    "print(final_string)"
   ]
  },
  {
   "cell_type": "code",
   "execution_count": null,
   "metadata": {},
   "outputs": [],
   "source": []
  },
  {
   "cell_type": "markdown",
   "metadata": {},
   "source": [
    "## Alec special"
   ]
  },
  {
   "cell_type": "code",
   "execution_count": 4,
   "metadata": {},
   "outputs": [
    {
     "name": "stdout",
     "output_type": "stream",
     "text": [
      "Column names are Name, Email Address\n",
      "Processed 76 lines.\n"
     ]
    }
   ],
   "source": [
    "names = []\n",
    "emails = []\n",
    "with open('/Users/mdeltutt/Downloads/snews-reg.csv') as csv_file:\n",
    "    csv_reader = csv.reader(csv_file, delimiter=',')\n",
    "    line_count = 0\n",
    "    for row in csv_reader:\n",
    "        if line_count == 0:\n",
    "            print(f'Column names are {\", \".join(row)}')\n",
    "            line_count += 1\n",
    "        else:\n",
    "            names.append(row[0])\n",
    "            emails.append(row[1])\n",
    "            line_count += 1\n",
    "    print(f'Processed {line_count} lines.')"
   ]
  },
  {
   "cell_type": "code",
   "execution_count": 9,
   "metadata": {},
   "outputs": [
    {
     "name": "stdout",
     "output_type": "stream",
     "text": [
      "sofia@lip.pt,Sofia Andringa;jbanovet@purdue.edu,John Banovetz;sbenzvi@ur.rochester.edu,Segev BenZvi;cb401@duke.edu,Crystal Burgos;alexis.coleiro@u-paris.fr,Alexis Coleiro;mcolomermolla@km3net.de,Marta Colomer Molla;vivek.datar@gmail.com,Vivek Datar;aydelgado@uc.cl,Aliwen Delgado;peterbd1@gmail.com,Peter Denton;adepoian@purdue.edu,Amanda Depoian;ddickinson@email.arizona.edu,Danielle Dickinson;dornic@cppm.in2p3.fr,Damien Dornic;duan@unm.edu,Huaiyu Duan;ferreiro@mpp.mpg.de,Nahuel Ferreiro Iachellini;agallorosso@laurentian.ca,Andrea Gallo Rosso;sgriswold@icecube.wisc.edu,Spencer Griswold;gromov@physics.msu.ru,Maxim Gromov;ahabig@umn.edu,Alec Habig;rhill2@laurentian.ca,Remington Hill;horiuchi@vt.edu,Shunsaku Horiuchi;koji@awa.tohoku.ac.jp,Koji Ishidoshrio;chinami.kato.e8@tohoku.ac.jp,Chinami Kato;dkhaitan@u.rochester.edu,Dev Ashish Khaitan;jpknelle@ncsu.edu,Jim Kneller;ckraus@laurentian.ca,Christine Kraus;vladimir.kulikovskiy@ge.infn.it,Vladimir Kulikovskiy;ranjan.laha@cern.ch,Ranjan Laha;tommylam@vt.edu,Tommy Lam;mathieu.lamoureux@cern.ch,Mathieu Lamoureux;rafael@purdue.edu,Rafael Lang;lee2676@purdue.edu,Rachel Lee;liyufeng@ihep.ac.cn,Yufeng Li;lincetto@cppm.in2p3.fr,Massimiliano Lincetto;mlinvill@purdue.edu,Mark Linvill;cecilia.lunardini@asu.edu,Cecilia Lunardini;mmccar21@ur.rochester.edu,M. Elise McCarthy;jost.migenda@kcl.ac.uk,Jost Migenda;dmilisav@purdue.edu,Dan Milisavljevic;evan.oconnor@astro.su.se,Evan O'Connor;eosullivan.queens@gmail.com,Erin O'Sullivan;giulia.pagliaroli@lngs.infn.it,Giulia Pagliaroli;luca.pattavina@tum.de,Luca Pattavina;s.j.m.peeters@sussex.ac.uk,Simon Peeters;rperes@physik.uzh.ch,Ricardo Peres;barry_pointon@bcit.ca,Barry Pointon;nraj@triumf.ca,Nirmal Raj;shayne@physik.uzh.ch,Shayne E Reichard;m.rigan@sussex.ac.uk,Michal Rigan;jrrumles@snolab.ca,Janet Rumleskie;hiro.sasaki@nao.ac.jp,Hirokazu Sasaki;schol@phy.duke.edu,Kate Scholberg;manibrata.sen@gmail.com,Manibrata Sen;ash@jinr.ru,Andrey Sheshukov;tjsonley@snolab.ca,Tom Sonley;niharika.sravan@gmail.com,Niharika Sravan;straitm@umn.edu,Matthew Strait;bsubraya@purdue.edu,Bhagya Subrayan;anna.suliga@nbi.ku.dk,Anna M. Suliga;yoxarasv@gmail.com,Yoxara S. Villamizar;takiwaki.tomoya.astro@gmail.com,Tomoya Takiwaki;tamborra@nbi.ku.dk,Irene Tamborra;sptorres@cougarnet.uh.edu,Sebastian Torres-Lara;jeff.tseng@physics.ox.ac.uk,Jeff Tseng;tunnell@rice.edu,Christopher Tunnell;nuberoi@u.rochester.edu,Navya Uberoi;justin.vasel@gmail.com,Justin Vasel;cjv@snolab.ca,Clarence Virtue;laurie.walk@nbi.ku.dk,Laurie Walk;jia-shian.wang@physics.ox.ac.uk,Josh Wang;mlwarre4@ncsu.edu,MacKenzie Warren;wenlj@ihep.ac.cn,Liangjian Wen;lwinslow@mit.edu,Lindley Winslow;yx48@rice.edu,Skylar Xu;xunjie.xu@gmail.com,Xun-Jie XU;shuai.zha@astro.su.se,Shuai Zha;\n"
     ]
    }
   ],
   "source": [
    "final_string = ''\n",
    "for i in range(0, 75):\n",
    "    n = names[i]\n",
    "    e = emails[i]\n",
    "    final_string += e\n",
    "    final_string += ','\n",
    "    final_string += n\n",
    "    final_string += ';'\n",
    "\n",
    "print(final_string)"
   ]
  },
  {
   "cell_type": "code",
   "execution_count": null,
   "metadata": {},
   "outputs": [],
   "source": []
  }
 ],
 "metadata": {
  "kernelspec": {
   "display_name": "Python 3",
   "language": "python",
   "name": "python3"
  },
  "language_info": {
   "codemirror_mode": {
    "name": "ipython",
    "version": 3
   },
   "file_extension": ".py",
   "mimetype": "text/x-python",
   "name": "python",
   "nbconvert_exporter": "python",
   "pygments_lexer": "ipython3",
   "version": "3.7.4"
  }
 },
 "nbformat": 4,
 "nbformat_minor": 2
}
