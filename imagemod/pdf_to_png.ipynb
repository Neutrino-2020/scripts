{
 "cells": [
  {
   "cell_type": "markdown",
   "metadata": {},
   "source": [
    "# Convert posters from PDF to PNG"
   ]
  },
  {
   "cell_type": "code",
   "execution_count": 1,
   "metadata": {},
   "outputs": [],
   "source": [
    "from os import listdir, system\n",
    "from os.path import isfile, join"
   ]
  },
  {
   "cell_type": "markdown",
   "metadata": {},
   "source": [
    "Get all PDF files in directory path"
   ]
  },
  {
   "cell_type": "code",
   "execution_count": 2,
   "metadata": {},
   "outputs": [
    {
     "data": {
      "text/plain": [
       "0"
      ]
     },
     "execution_count": 2,
     "metadata": {},
     "output_type": "execute_result"
    }
   ],
   "source": [
    "_poster_out_dir = './posters_png/'\n",
    "system(f'mkdir -p {_poster_out_dir}')"
   ]
  },
  {
   "cell_type": "code",
   "execution_count": 3,
   "metadata": {},
   "outputs": [
    {
     "data": {
      "text/plain": [
       "['poster_id_265.pdf',\n",
       " 'poster_id_271.pdf',\n",
       " 'poster_id_24.pdf',\n",
       " 'poster_id_302.pdf',\n",
       " 'poster_id_22.pdf',\n",
       " 'poster_id_37.pdf',\n",
       " 'poster_id_561.pdf',\n",
       " 'poster_id_45.pdf',\n",
       " 'poster_id_574.pdf',\n",
       " 'poster_id_210.pdf',\n",
       " 'poster_id_614.pdf',\n",
       " 'poster_id_600.pdf',\n",
       " 'poster_id_615.pdf',\n",
       " 'poster_id_577.pdf',\n",
       " 'poster_id_57.pdf',\n",
       " 'poster_id_43.pdf',\n",
       " 'poster_id_41.pdf',\n",
       " 'poster_id_232.pdf',\n",
       " 'poster_id_597.pdf',\n",
       " 'poster_id_59.pdf',\n",
       " 'poster_id_621.pdf',\n",
       " 'poster_id_190.pdf',\n",
       " 'poster_id_184.pdf',\n",
       " 'poster_id_546.pdf',\n",
       " 'poster_id_143.pdf',\n",
       " 'poster_id_579.pdf',\n",
       " 'poster_id_197.pdf',\n",
       " 'poster_id_251.pdf',\n",
       " 'poster_id_324.pdf',\n",
       " 'poster_id_132.pdf',\n",
       " 'poster_id_285.pdf',\n",
       " 'poster_id_291.pdf',\n",
       " 'poster_id_247.pdf',\n",
       " 'poster_id_452.pdf']"
      ]
     },
     "execution_count": 3,
     "metadata": {},
     "output_type": "execute_result"
    }
   ],
   "source": [
    "path = '../indico_fetch/posters/'\n",
    "pdf_files = [f for f in listdir(path) if isfile(join(path, f)) and '.pdf' in f]\n",
    "pdf_files"
   ]
  },
  {
   "cell_type": "markdown",
   "metadata": {},
   "source": [
    "Run sips on all files to convert them to PNG with max size 2340 on largest dimension"
   ]
  },
  {
   "cell_type": "code",
   "execution_count": 5,
   "metadata": {},
   "outputs": [
    {
     "name": "stdout",
     "output_type": "stream",
     "text": [
      "sips -s format png -Z 4680 ../indico_fetch/posters//poster_id_265.pdf --out ./posters_png//poster_id_265.pdf.png\n",
      "sips -s format png -Z 4680 ../indico_fetch/posters//poster_id_271.pdf --out ./posters_png//poster_id_271.pdf.png\n",
      "sips -s format png -Z 4680 ../indico_fetch/posters//poster_id_24.pdf --out ./posters_png//poster_id_24.pdf.png\n",
      "sips -s format png -Z 4680 ../indico_fetch/posters//poster_id_302.pdf --out ./posters_png//poster_id_302.pdf.png\n",
      "sips -s format png -Z 4680 ../indico_fetch/posters//poster_id_22.pdf --out ./posters_png//poster_id_22.pdf.png\n",
      "sips -s format png -Z 4680 ../indico_fetch/posters//poster_id_37.pdf --out ./posters_png//poster_id_37.pdf.png\n",
      "sips -s format png -Z 4680 ../indico_fetch/posters//poster_id_561.pdf --out ./posters_png//poster_id_561.pdf.png\n",
      "sips -s format png -Z 4680 ../indico_fetch/posters//poster_id_45.pdf --out ./posters_png//poster_id_45.pdf.png\n",
      "sips -s format png -Z 4680 ../indico_fetch/posters//poster_id_574.pdf --out ./posters_png//poster_id_574.pdf.png\n",
      "sips -s format png -Z 4680 ../indico_fetch/posters//poster_id_210.pdf --out ./posters_png//poster_id_210.pdf.png\n",
      "sips -s format png -Z 4680 ../indico_fetch/posters//poster_id_614.pdf --out ./posters_png//poster_id_614.pdf.png\n",
      "sips -s format png -Z 4680 ../indico_fetch/posters//poster_id_600.pdf --out ./posters_png//poster_id_600.pdf.png\n",
      "sips -s format png -Z 4680 ../indico_fetch/posters//poster_id_615.pdf --out ./posters_png//poster_id_615.pdf.png\n",
      "sips -s format png -Z 4680 ../indico_fetch/posters//poster_id_577.pdf --out ./posters_png//poster_id_577.pdf.png\n",
      "sips -s format png -Z 4680 ../indico_fetch/posters//poster_id_57.pdf --out ./posters_png//poster_id_57.pdf.png\n",
      "sips -s format png -Z 4680 ../indico_fetch/posters//poster_id_43.pdf --out ./posters_png//poster_id_43.pdf.png\n",
      "sips -s format png -Z 4680 ../indico_fetch/posters//poster_id_41.pdf --out ./posters_png//poster_id_41.pdf.png\n",
      "sips -s format png -Z 4680 ../indico_fetch/posters//poster_id_232.pdf --out ./posters_png//poster_id_232.pdf.png\n",
      "sips -s format png -Z 4680 ../indico_fetch/posters//poster_id_597.pdf --out ./posters_png//poster_id_597.pdf.png\n",
      "sips -s format png -Z 4680 ../indico_fetch/posters//poster_id_59.pdf --out ./posters_png//poster_id_59.pdf.png\n",
      "sips -s format png -Z 4680 ../indico_fetch/posters//poster_id_621.pdf --out ./posters_png//poster_id_621.pdf.png\n",
      "sips -s format png -Z 4680 ../indico_fetch/posters//poster_id_190.pdf --out ./posters_png//poster_id_190.pdf.png\n",
      "sips -s format png -Z 4680 ../indico_fetch/posters//poster_id_184.pdf --out ./posters_png//poster_id_184.pdf.png\n",
      "sips -s format png -Z 4680 ../indico_fetch/posters//poster_id_546.pdf --out ./posters_png//poster_id_546.pdf.png\n",
      "sips -s format png -Z 4680 ../indico_fetch/posters//poster_id_143.pdf --out ./posters_png//poster_id_143.pdf.png\n",
      "sips -s format png -Z 4680 ../indico_fetch/posters//poster_id_579.pdf --out ./posters_png//poster_id_579.pdf.png\n",
      "sips -s format png -Z 4680 ../indico_fetch/posters//poster_id_197.pdf --out ./posters_png//poster_id_197.pdf.png\n",
      "sips -s format png -Z 4680 ../indico_fetch/posters//poster_id_251.pdf --out ./posters_png//poster_id_251.pdf.png\n",
      "sips -s format png -Z 4680 ../indico_fetch/posters//poster_id_324.pdf --out ./posters_png//poster_id_324.pdf.png\n",
      "sips -s format png -Z 4680 ../indico_fetch/posters//poster_id_132.pdf --out ./posters_png//poster_id_132.pdf.png\n",
      "sips -s format png -Z 4680 ../indico_fetch/posters//poster_id_285.pdf --out ./posters_png//poster_id_285.pdf.png\n",
      "sips -s format png -Z 4680 ../indico_fetch/posters//poster_id_291.pdf --out ./posters_png//poster_id_291.pdf.png\n",
      "sips -s format png -Z 4680 ../indico_fetch/posters//poster_id_247.pdf --out ./posters_png//poster_id_247.pdf.png\n",
      "sips -s format png -Z 4680 ../indico_fetch/posters//poster_id_452.pdf --out ./posters_png//poster_id_452.pdf.png\n"
     ]
    }
   ],
   "source": [
    "for f in pdf_files:\n",
    "    command = f'sips -s format png -Z 4680 {path}/{f} --out {_poster_out_dir}/{f}.png'\n",
    "#     command = f'sips -s format png --resampleHeight 1654 {path}/{f} --out {_poster_out_dir}/{f}.png'\n",
    "    print(command)\n",
    "    system(command)"
   ]
  },
  {
   "cell_type": "code",
   "execution_count": null,
   "metadata": {},
   "outputs": [],
   "source": []
  }
 ],
 "metadata": {
  "kernelspec": {
   "display_name": "Python 3",
   "language": "python",
   "name": "python3"
  },
  "language_info": {
   "codemirror_mode": {
    "name": "ipython",
    "version": 3
   },
   "file_extension": ".py",
   "mimetype": "text/x-python",
   "name": "python",
   "nbconvert_exporter": "python",
   "pygments_lexer": "ipython3",
   "version": "3.7.4"
  }
 },
 "nbformat": 4,
 "nbformat_minor": 2
}
