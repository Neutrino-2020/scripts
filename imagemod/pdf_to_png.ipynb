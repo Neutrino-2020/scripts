{
 "cells": [
  {
   "cell_type": "markdown",
   "metadata": {},
   "source": [
    "# Convert posters from PDF to PNG"
   ]
  },
  {
   "cell_type": "code",
   "execution_count": 17,
   "metadata": {},
   "outputs": [],
   "source": [
    "from os import listdir, system\n",
    "from os.path import isfile, join"
   ]
  },
  {
   "cell_type": "markdown",
   "metadata": {},
   "source": [
    "Get all PDF files in directory path"
   ]
  },
  {
   "cell_type": "code",
   "execution_count": 18,
   "metadata": {},
   "outputs": [
    {
     "data": {
      "text/plain": [
       "['Wouter_Neutrino2020_Poster.pdf', 'mock_poster_1.pdf']"
      ]
     },
     "execution_count": 18,
     "metadata": {},
     "output_type": "execute_result"
    }
   ],
   "source": [
    "path = './'\n",
    "pdf_files = [f for f in listdir(path) if isfile(join(path, f)) and '.pdf' in f]\n",
    "pdf_files"
   ]
  },
  {
   "cell_type": "markdown",
   "metadata": {},
   "source": [
    "Run sips on all files to convert them to PNG with max size 2340 on largest dimension"
   ]
  },
  {
   "cell_type": "code",
   "execution_count": 20,
   "metadata": {},
   "outputs": [
    {
     "name": "stdout",
     "output_type": "stream",
     "text": [
      "sips -s format png -Z 2340 Wouter_Neutrino2020_Poster.pdf --out Wouter_Neutrino2020_Poster.pdf.png\n",
      "sips -s format png -Z 2340 mock_poster_1.pdf --out mock_poster_1.pdf.png\n"
     ]
    }
   ],
   "source": [
    "for f in pdf_files:\n",
    "    command = f'sips -s format png -Z 2340 {f} --out {f}.png'\n",
    "    print(command)\n",
    "    system(command)"
   ]
  }
 ],
 "metadata": {
  "kernelspec": {
   "display_name": "Python 3",
   "language": "python",
   "name": "python3"
  },
  "language_info": {
   "codemirror_mode": {
    "name": "ipython",
    "version": 3
   },
   "file_extension": ".py",
   "mimetype": "text/x-python",
   "name": "python",
   "nbconvert_exporter": "python",
   "pygments_lexer": "ipython3",
   "version": "3.7.4"
  }
 },
 "nbformat": 4,
 "nbformat_minor": 2
}
