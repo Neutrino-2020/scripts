{
 "cells": [
  {
   "cell_type": "markdown",
   "metadata": {},
   "source": [
    "# Automatically changes room permissions"
   ]
  },
  {
   "cell_type": "code",
   "execution_count": 141,
   "metadata": {},
   "outputs": [],
   "source": [
    "import time\n",
    "import random\n",
    "import os\n",
    "import requests\n",
    "\n",
    "from selenium import webdriver\n",
    "from selenium.webdriver.common.keys import Keys\n",
    "\n",
    "import json"
   ]
  },
  {
   "cell_type": "code",
   "execution_count": null,
   "metadata": {},
   "outputs": [],
   "source": [
    "driver = webdriver.Firefox()\n",
    "driver.get(_rooms[0])"
   ]
  },
  {
   "cell_type": "code",
   "execution_count": 124,
   "metadata": {},
   "outputs": [],
   "source": [
    "_make_public = True\n",
    "_poster_session = '1'\n",
    "_room_description = 'Each room contains 5 posters each. Feel free to jump from one room to the other!'"
   ]
  },
  {
   "cell_type": "code",
   "execution_count": 115,
   "metadata": {},
   "outputs": [],
   "source": [
    "_rooms = [\n",
    "    'https://nu2020-hubs.org/aJhzVEK/poster-session-1-or-room-1-posters-from-1-to-5',\n",
    "    'https://nu2020-hubs.org/q9nW7yD/poster-session-1-or-room-2-posters-from-6-to-10',\n",
    "    'https://nu2020-hubs.org/7M5ayrL/poster-session-1-or-room-3-posters-from-11-to-15',\n",
    "    'https://nu2020-hubs.org/RFaFEZk/poster-session-1-or-room-4-posters-from-16-to-20'\n",
    "]"
   ]
  },
  {
   "cell_type": "code",
   "execution_count": 138,
   "metadata": {},
   "outputs": [],
   "source": [
    "def change_room_permissions(room_link=\"https://nu2020-hubs.org/aJhzVEK/poster-session-1-or-room-1-posters-from-1-to-5\", make_public=False):\n",
    "    \n",
    "    # Open Hubs\n",
    "    driver.get(room_link)\n",
    "\n",
    "    time.sleep(12)\n",
    "\n",
    "    # Open preferences panel\n",
    "    preferences_btn = driver.find_elements_by_class_name('svg-inline--fa')\n",
    "    preferences_btn[4].click()\n",
    "\n",
    "    # Open room settings\n",
    "    a = driver.find_elements_by_css_selector(\"[href]\")\n",
    "\n",
    "    # for h in a:\n",
    "    #     print(h.get_attribute('innerHTML'))\n",
    "\n",
    "    a[9].get_attribute('innerHTML')\n",
    "    a[9].click()\n",
    "\n",
    "    a = driver.find_elements_by_tag_name('input')\n",
    "#     for h in a:\n",
    "#         print(h.get_attribute('type'))\n",
    "    \n",
    "    # a[0] is title\n",
    "    # a[2] is private\n",
    "    # a[3] is public\n",
    "    \n",
    "    # Change permissions\n",
    "    a[3].click()\n",
    "\n",
    "    if make_public:\n",
    "        a[3].click()\n",
    "    else:\n",
    "        a[2].click()\n",
    "        \n",
    "    # Change title\n",
    "    print('Changing room:', a[0].get_attribute('value'))\n",
    "    original_title = a[0].get_attribute('value')\n",
    "    a[0].send_keys(s[:15] + _poster_session + s[16:])\n",
    "    \n",
    "    # Change room description\n",
    "    a = driver.find_elements_by_tag_name('textarea')\n",
    "#     for h in a:\n",
    "#         print(h.get_attribute('type'))\n",
    "    \n",
    "    # a[0] is room description\n",
    "    a[0].send_keys(_room_description)\n",
    "    \n",
    "\n",
    "    # Apply\n",
    "    apply_btn = driver.find_element_by_class_name('room-settings-dialog__next-button__2F9Jd')\n",
    "    apply_btn.click()"
   ]
  },
  {
   "cell_type": "code",
   "execution_count": 140,
   "metadata": {},
   "outputs": [
    {
     "name": "stdout",
     "output_type": "stream",
     "text": [
      "Changing room: Poster Session 1 | Room 1 - Posters from 1 to 5\n",
      "textarea\n",
      "textarea\n"
     ]
    }
   ],
   "source": [
    "time.sleep(5)\n",
    "for room in _rooms:\n",
    "    change_room_permissions(room_link=room, make_public=_make_public)\n",
    "    break"
   ]
  },
  {
   "cell_type": "code",
   "execution_count": null,
   "metadata": {},
   "outputs": [],
   "source": []
  }
 ],
 "metadata": {
  "kernelspec": {
   "display_name": "Python 3",
   "language": "python",
   "name": "python3"
  },
  "language_info": {
   "codemirror_mode": {
    "name": "ipython",
    "version": 3
   },
   "file_extension": ".py",
   "mimetype": "text/x-python",
   "name": "python",
   "nbconvert_exporter": "python",
   "pygments_lexer": "ipython3",
   "version": "3.7.4"
  }
 },
 "nbformat": 4,
 "nbformat_minor": 2
}
