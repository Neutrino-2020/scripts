{
 "cells": [
  {
   "cell_type": "markdown",
   "metadata": {},
   "source": [
    "# Generates all the HTML files for room links\n",
    "\n",
    "At the end, rememeber to:\n",
    "- place `link_to_room.json` in `src/components/` of `hubs`,\n",
    "- upload all the `html/*` files to AWS S3 `nu2020-data/room_links`"
   ]
  },
  {
   "cell_type": "code",
   "execution_count": 1,
   "metadata": {},
   "outputs": [],
   "source": [
    "import json\n",
    "import os"
   ]
  },
  {
   "cell_type": "code",
   "execution_count": 2,
   "metadata": {},
   "outputs": [],
   "source": [
    "with open('link_to_room.json') as f:\n",
    "    data = json.load(f)\n",
    "\n",
    "# print(data)"
   ]
  },
  {
   "cell_type": "code",
   "execution_count": 3,
   "metadata": {},
   "outputs": [
    {
     "name": "stdout",
     "output_type": "stream",
     "text": [
      "Creating html/to_room_1.html\n",
      "Creating html/to_room_2.html\n",
      "Creating html/to_room_3.html\n",
      "Creating html/to_room_4.html\n",
      "Creating html/to_room_5.html\n",
      "Creating html/to_room_6.html\n",
      "Creating html/to_room_7.html\n",
      "Creating html/to_room_8.html\n",
      "Creating html/to_room_9.html\n",
      "Creating html/to_room_10.html\n",
      "Creating html/to_room_11.html\n",
      "Creating html/to_room_12.html\n",
      "Creating html/to_room_13.html\n",
      "Creating html/to_room_14.html\n",
      "Creating html/to_room_15.html\n",
      "Creating html/to_room_16.html\n",
      "Creating html/to_room_17.html\n",
      "Creating html/to_room_18.html\n",
      "Creating html/to_room_19.html\n",
      "Creating html/to_room_20.html\n",
      "Creating html/to_room_21.html\n",
      "Creating html/to_room_22.html\n",
      "Creating html/to_room_23.html\n",
      "Creating html/to_room_24.html\n",
      "Creating html/to_room_25.html\n",
      "Creating html/to_room_26.html\n",
      "Creating html/to_room_27.html\n",
      "Creating html/to_room_28.html\n",
      "Creating html/to_room_29.html\n",
      "Creating html/to_room_30.html\n"
     ]
    }
   ],
   "source": [
    "html_dir = 'html'\n",
    "for i in range(1, 31):\n",
    "    original_name = f'base/to_room.html'\n",
    "    target_name = f'{html_dir}/to_room_{i}.html'\n",
    "    print(f'Creating {target_name}')\n",
    "    \n",
    "    file = open(original_name, mode='r')\n",
    "    text = file.read()\n",
    "#     print(text)\n",
    "    new_text = text.replace(\"REPLACE_THIS\", data[i-1]['link'])\n",
    "#     print(new_text)\n",
    "    \n",
    "    out_file = open(target_name, \"w\")\n",
    "    out_file.write(new_text)\n",
    "    \n",
    "    file.close()\n",
    "    out_file.close()"
   ]
  },
  {
   "cell_type": "code",
   "execution_count": null,
   "metadata": {},
   "outputs": [],
   "source": []
  }
 ],
 "metadata": {
  "kernelspec": {
   "display_name": "Python 3",
   "language": "python",
   "name": "python3"
  },
  "language_info": {
   "codemirror_mode": {
    "name": "ipython",
    "version": 3
   },
   "file_extension": ".py",
   "mimetype": "text/x-python",
   "name": "python",
   "nbconvert_exporter": "python",
   "pygments_lexer": "ipython3",
   "version": "3.7.4"
  }
 },
 "nbformat": 4,
 "nbformat_minor": 2
}
