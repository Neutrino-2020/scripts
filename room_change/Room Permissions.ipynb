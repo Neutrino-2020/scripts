{
 "cells": [
  {
   "cell_type": "markdown",
   "metadata": {},
   "source": [
    "# Automatically changes room permissions"
   ]
  },
  {
   "cell_type": "code",
   "execution_count": 1,
   "metadata": {},
   "outputs": [],
   "source": [
    "import time\n",
    "import random\n",
    "import os\n",
    "import requests\n",
    "\n",
    "from selenium import webdriver\n",
    "from selenium.webdriver.common.keys import Keys\n",
    "\n",
    "import json"
   ]
  },
  {
   "cell_type": "code",
   "execution_count": 2,
   "metadata": {},
   "outputs": [],
   "source": [
    "driver = webdriver.Firefox()\n",
    "driver.get('https://nu2020-hubs.org/aJhzVEK/poster-session-1-or-room-1-posters-from-1-to-5')"
   ]
  },
  {
   "cell_type": "code",
   "execution_count": 3,
   "metadata": {},
   "outputs": [],
   "source": [
    "_make_public = True"
   ]
  },
  {
   "cell_type": "code",
   "execution_count": 8,
   "metadata": {},
   "outputs": [],
   "source": [
    "_poster_session = '1'\n",
    "_n_people = 30\n",
    "_room_description = 'Each room contains 5 posters each. Feel free to jump from one room to the other!'\n",
    "_rooms = [\n",
    "    'https://nu2020-hubs.org/aJhzVEK/poster-session-1-or-room-1-posters-from-1-to-5',\n",
    "    'https://nu2020-hubs.org/q9nW7yD/poster-session-1-or-room-2-posters-from-6-to-10',\n",
    "    'https://nu2020-hubs.org/7M5ayrL/poster-session-1-or-room-3-posters-from-11-to-15',\n",
    "    'https://nu2020-hubs.org/RFaFEZk/poster-session-1-or-room-4-posters-from-16-to-20'\n",
    "]"
   ]
  },
  {
   "cell_type": "code",
   "execution_count": 11,
   "metadata": {},
   "outputs": [],
   "source": [
    "_poster_session = None\n",
    "_n_people = 20\n",
    "_room_description = 'We were planning on offering tours for the in-person conference. Unfortunately, this is no longer an option. Here, we have collected some 360 video and images of Fermilab and Fermilab\\'s experiments! More images are available at 360.fnal.gov.'\n",
    "_rooms = [\n",
    "    'https://nu2020-hubs.org/VkQqdZa/sightseeing-in-fermilab-or-fermilab-underground',\n",
    "    'https://nu2020-hubs.org/Jjy9Vit/sightseeing-in-fermilab-or-fermilab-woods',\n",
    "    'https://nu2020-hubs.org/eAVUNFw/sightseeing-in-fermilab-or-inside-wilson-hall',\n",
    "    'https://nu2020-hubs.org/SovtrWV/sightseeing-in-fermilab-or-nova-far-detector-lower-level',\n",
    "    'https://nu2020-hubs.org/FyvqKTd/sightseeing-in-fermilab-or-nova-movable-service-platform',\n",
    "    'https://nu2020-hubs.org/FyvqKTd/sightseeing-in-fermilab-or-nova-movable-service-platform',\n",
    "    'https://nu2020-hubs.org/BtDWN2p/sightseeing-in-fermilab-or-outside-wilson-hall',\n",
    "    'https://nu2020-hubs.org/tjDgrym/sightseeing-in-fermilab-or-tevatron-center',\n",
    "    'https://nu2020-hubs.org/YM58dsH/sightseeing-in-fermilab-or-village'\n",
    "]"
   ]
  },
  {
   "cell_type": "code",
   "execution_count": 12,
   "metadata": {},
   "outputs": [],
   "source": [
    "def change_room_permissions(room_link=\"https://nu2020-hubs.org/aJhzVEK/poster-session-1-or-room-1-posters-from-1-to-5\", make_public=False):\n",
    "    \n",
    "    # Open Hubs\n",
    "    driver.get(room_link)\n",
    "\n",
    "    time.sleep(12)\n",
    "\n",
    "    # Open preferences panel\n",
    "    preferences_btn = driver.find_elements_by_class_name('svg-inline--fa')\n",
    "    preferences_btn[4].click()\n",
    "\n",
    "    # Open room settings\n",
    "    a = driver.find_elements_by_css_selector(\"[href]\")\n",
    "\n",
    "    # for h in a:\n",
    "    #     print(h.get_attribute('innerHTML'))\n",
    "\n",
    "    a[9].get_attribute('innerHTML')\n",
    "    a[9].click()\n",
    "\n",
    "    a = driver.find_elements_by_tag_name('input')\n",
    "#     for h in a:\n",
    "#         print(h.get_attribute('type'))\n",
    "    \n",
    "    # a[0] is title\n",
    "    # a[1] is number of users\n",
    "    # a[2] is private\n",
    "    # a[3] is public\n",
    "    \n",
    "    # Change permissions\n",
    "    a[3].click()\n",
    "\n",
    "    if make_public:\n",
    "        a[3].click()\n",
    "    else:\n",
    "        a[2].click()\n",
    "        \n",
    "    # Change title\n",
    "    print('Changing room:', a[0].get_attribute('value'))\n",
    "    if _poster_session is not None:\n",
    "        original_title = a[0].get_attribute('value')\n",
    "        a[0].send_keys(original_title[:15] + _poster_session + original_title[16:])\n",
    "        \n",
    "    if _n_people is not None:\n",
    "        a[1].send_keys(str(_n_people))\n",
    "    \n",
    "    # Change room description\n",
    "    a = driver.find_elements_by_tag_name('textarea')\n",
    "#     for h in a:\n",
    "#         print(h.get_attribute('type'))\n",
    "    \n",
    "    # a[0] is room description\n",
    "    a[0].send_keys(_room_description)\n",
    "    \n",
    "\n",
    "    # Apply\n",
    "    apply_btn = driver.find_element_by_class_name('room-settings-dialog__next-button__2F9Jd')\n",
    "    apply_btn.click()"
   ]
  },
  {
   "cell_type": "code",
   "execution_count": 14,
   "metadata": {},
   "outputs": [
    {
     "name": "stdout",
     "output_type": "stream",
     "text": [
      "Changing room: Sightseeing in Fermilab | Fermilab Underground\n",
      "Changing room: Sightseeing in Fermilab | Fermilab Woods\n",
      "Changing room: Sightseeing in Fermilab | Inside Wilson Hall\n",
      "Changing room: Sightseeing in Fermilab | NOvA Far Detector Lower Level\n",
      "Changing room: Sightseeing in Fermilab | NOvA Movable Service Platform\n",
      "Changing room: Sightseeing in Fermilab | NOvA Movable Service Platform\n",
      "Changing room: Sightseeing in Fermilab | Outside Wilson Hall\n",
      "Changing room: Sightseeing in Fermilab | Tevatron Center\n",
      "Changing room: Sightseeing in Fermilab | Village\n"
     ]
    }
   ],
   "source": [
    "time.sleep(3)\n",
    "for room in _rooms:\n",
    "    change_room_permissions(room_link=room, make_public=_make_public)\n",
    "driver.get('https://nu2020-hubs.org')"
   ]
  },
  {
   "cell_type": "code",
   "execution_count": null,
   "metadata": {},
   "outputs": [],
   "source": []
  }
 ],
 "metadata": {
  "kernelspec": {
   "display_name": "Python 3",
   "language": "python",
   "name": "python3"
  },
  "language_info": {
   "codemirror_mode": {
    "name": "ipython",
    "version": 3
   },
   "file_extension": ".py",
   "mimetype": "text/x-python",
   "name": "python",
   "nbconvert_exporter": "python",
   "pygments_lexer": "ipython3",
   "version": "3.7.4"
  }
 },
 "nbformat": 4,
 "nbformat_minor": 2
}
